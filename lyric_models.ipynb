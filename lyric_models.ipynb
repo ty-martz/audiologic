{
 "cells": [
  {
   "attachments": {},
   "cell_type": "markdown",
   "metadata": {},
   "source": [
    "# Lyric Models\n",
    "----"
   ]
  },
  {
   "cell_type": "code",
   "execution_count": 1,
   "metadata": {},
   "outputs": [],
   "source": [
    "import nltk\n",
    "from nltk.corpus import stopwords\n",
    "from sklearn.feature_extraction.text import TfidfVectorizer\n",
    "from sklearn.linear_model import LinearRegression\n",
    "from sklearn.metrics import mean_squared_error\n",
    "import pandas as pd\n",
    "import numpy as np\n",
    "from sklearn.ensemble import RandomForestRegressor\n",
    "from sklearn.model_selection import train_test_split, GridSearchCV\n",
    "import xgboost as xgb\n",
    "import pickle"
   ]
  },
  {
   "cell_type": "code",
   "execution_count": 2,
   "metadata": {},
   "outputs": [],
   "source": [
    "import re\n",
    "\n",
    "def clear_text(text):\n",
    "    #print(text)\n",
    "    t = re.sub(r\"[^a-zA-Z']\", \" \", text)\n",
    "    clean = \" \".join(t.split())\n",
    "    return clean"
   ]
  },
  {
   "cell_type": "code",
   "execution_count": 3,
   "metadata": {},
   "outputs": [
    {
     "name": "stdout",
     "output_type": "stream",
     "text": [
      "356\n"
     ]
    },
    {
     "name": "stderr",
     "output_type": "stream",
     "text": [
      "/var/folders/zl/dcf4_q9d3snfp2mjbl4tx00w0000gp/T/ipykernel_4229/4283846153.py:5: SettingWithCopyWarning: \n",
      "A value is trying to be set on a copy of a slice from a DataFrame.\n",
      "Try using .loc[row_indexer,col_indexer] = value instead\n",
      "\n",
      "See the caveats in the documentation: https://pandas.pydata.org/pandas-docs/stable/user_guide/indexing.html#returning-a-view-versus-a-copy\n",
      "  lyrics['clean_text'] = [clear_text(x) for x in lyrics['text'].astype(str).str.lower()]\n",
      "/var/folders/zl/dcf4_q9d3snfp2mjbl4tx00w0000gp/T/ipykernel_4229/4283846153.py:6: SettingWithCopyWarning: \n",
      "A value is trying to be set on a copy of a slice from a DataFrame.\n",
      "Try using .loc[row_indexer,col_indexer] = value instead\n",
      "\n",
      "See the caveats in the documentation: https://pandas.pydata.org/pandas-docs/stable/user_guide/indexing.html#returning-a-view-versus-a-copy\n",
      "  lyrics['clean_text'] = lyrics['clean_text'].str.replace(\"'\", \"\")\n"
     ]
    },
    {
     "data": {
      "text/html": [
       "<div>\n",
       "<style scoped>\n",
       "    .dataframe tbody tr th:only-of-type {\n",
       "        vertical-align: middle;\n",
       "    }\n",
       "\n",
       "    .dataframe tbody tr th {\n",
       "        vertical-align: top;\n",
       "    }\n",
       "\n",
       "    .dataframe thead th {\n",
       "        text-align: right;\n",
       "    }\n",
       "</style>\n",
       "<table border=\"1\" class=\"dataframe\">\n",
       "  <thead>\n",
       "    <tr style=\"text-align: right;\">\n",
       "      <th></th>\n",
       "      <th>Unnamed: 0</th>\n",
       "      <th>song_id</th>\n",
       "      <th>lyrics</th>\n",
       "      <th>text</th>\n",
       "      <th>clean_text</th>\n",
       "    </tr>\n",
       "  </thead>\n",
       "  <tbody>\n",
       "    <tr>\n",
       "      <th>0</th>\n",
       "      <td>0</td>\n",
       "      <td>2</td>\n",
       "      <td>DecodingResult(audio_features=tensor([[-0.6818...</td>\n",
       "      <td>Can't find their friends to make just mine Pro...</td>\n",
       "      <td>cant find their friends to make just mine prob...</td>\n",
       "    </tr>\n",
       "    <tr>\n",
       "      <th>3</th>\n",
       "      <td>3</td>\n",
       "      <td>5</td>\n",
       "      <td>DecodingResult(audio_features=tensor([[-0.5512...</td>\n",
       "      <td>I ought to leave my main, I ought to leave my ...</td>\n",
       "      <td>i ought to leave my main i ought to leave my m...</td>\n",
       "    </tr>\n",
       "    <tr>\n",
       "      <th>8</th>\n",
       "      <td>8</td>\n",
       "      <td>13</td>\n",
       "      <td>DecodingResult(audio_features=tensor([[-0.6676...</td>\n",
       "      <td>Now what do I do? He is dressed like a sifter ...</td>\n",
       "      <td>now what do i do he is dressed like a sifter j...</td>\n",
       "    </tr>\n",
       "    <tr>\n",
       "      <th>10</th>\n",
       "      <td>10</td>\n",
       "      <td>18</td>\n",
       "      <td>DecodingResult(audio_features=tensor([[-0.7462...</td>\n",
       "      <td>I love you, Satan, all the love you take And s...</td>\n",
       "      <td>i love you satan all the love you take and sle...</td>\n",
       "    </tr>\n",
       "    <tr>\n",
       "      <th>11</th>\n",
       "      <td>11</td>\n",
       "      <td>19</td>\n",
       "      <td>DecodingResult(audio_features=tensor([[-0.3821...</td>\n",
       "      <td>I'm thirsty land, wait, we'll never be proud W...</td>\n",
       "      <td>im thirsty land wait well never be proud well ...</td>\n",
       "    </tr>\n",
       "  </tbody>\n",
       "</table>\n",
       "</div>"
      ],
      "text/plain": [
       "    Unnamed: 0  song_id                                             lyrics  \\\n",
       "0            0        2  DecodingResult(audio_features=tensor([[-0.6818...   \n",
       "3            3        5  DecodingResult(audio_features=tensor([[-0.5512...   \n",
       "8            8       13  DecodingResult(audio_features=tensor([[-0.6676...   \n",
       "10          10       18  DecodingResult(audio_features=tensor([[-0.7462...   \n",
       "11          11       19  DecodingResult(audio_features=tensor([[-0.3821...   \n",
       "\n",
       "                                                 text  \\\n",
       "0   Can't find their friends to make just mine Pro...   \n",
       "3   I ought to leave my main, I ought to leave my ...   \n",
       "8   Now what do I do? He is dressed like a sifter ...   \n",
       "10  I love you, Satan, all the love you take And s...   \n",
       "11  I'm thirsty land, wait, we'll never be proud W...   \n",
       "\n",
       "                                           clean_text  \n",
       "0   cant find their friends to make just mine prob...  \n",
       "3   i ought to leave my main i ought to leave my m...  \n",
       "8   now what do i do he is dressed like a sifter j...  \n",
       "10  i love you satan all the love you take and sle...  \n",
       "11  im thirsty land wait well never be proud well ...  "
      ]
     },
     "execution_count": 3,
     "metadata": {},
     "output_type": "execute_result"
    }
   ],
   "source": [
    "# load data\n",
    "lyrics_data = pd.read_csv('data/lyrics.csv')\n",
    "lyrics = lyrics_data[~lyrics_data.text.isin([\"Music\", \"Music Music\", \"nan\", \"music\", 'np.nan'])]\n",
    "print(len(lyrics))\n",
    "lyrics['clean_text'] = [clear_text(x) for x in lyrics['text'].astype(str).str.lower()]\n",
    "lyrics['clean_text'] = lyrics['clean_text'].str.replace(\"'\", \"\")\n",
    "lyrics.head()"
   ]
  },
  {
   "cell_type": "code",
   "execution_count": 4,
   "metadata": {},
   "outputs": [
    {
     "data": {
      "text/html": [
       "<div>\n",
       "<style scoped>\n",
       "    .dataframe tbody tr th:only-of-type {\n",
       "        vertical-align: middle;\n",
       "    }\n",
       "\n",
       "    .dataframe tbody tr th {\n",
       "        vertical-align: top;\n",
       "    }\n",
       "\n",
       "    .dataframe thead th {\n",
       "        text-align: right;\n",
       "    }\n",
       "</style>\n",
       "<table border=\"1\" class=\"dataframe\">\n",
       "  <thead>\n",
       "    <tr style=\"text-align: right;\">\n",
       "      <th></th>\n",
       "      <th>song_id</th>\n",
       "      <th>mean_arousal</th>\n",
       "      <th>std_arousal</th>\n",
       "      <th>mean_valence</th>\n",
       "      <th>std_valence</th>\n",
       "    </tr>\n",
       "  </thead>\n",
       "  <tbody>\n",
       "    <tr>\n",
       "      <th>0</th>\n",
       "      <td>2</td>\n",
       "      <td>3.1</td>\n",
       "      <td>0.99443</td>\n",
       "      <td>3.0</td>\n",
       "      <td>0.66667</td>\n",
       "    </tr>\n",
       "    <tr>\n",
       "      <th>1</th>\n",
       "      <td>3</td>\n",
       "      <td>3.5</td>\n",
       "      <td>1.84090</td>\n",
       "      <td>3.3</td>\n",
       "      <td>1.70290</td>\n",
       "    </tr>\n",
       "    <tr>\n",
       "      <th>2</th>\n",
       "      <td>4</td>\n",
       "      <td>5.7</td>\n",
       "      <td>1.49440</td>\n",
       "      <td>5.5</td>\n",
       "      <td>1.71590</td>\n",
       "    </tr>\n",
       "    <tr>\n",
       "      <th>3</th>\n",
       "      <td>5</td>\n",
       "      <td>4.4</td>\n",
       "      <td>2.11870</td>\n",
       "      <td>5.3</td>\n",
       "      <td>1.94650</td>\n",
       "    </tr>\n",
       "    <tr>\n",
       "      <th>4</th>\n",
       "      <td>7</td>\n",
       "      <td>5.8</td>\n",
       "      <td>1.54920</td>\n",
       "      <td>6.4</td>\n",
       "      <td>1.77640</td>\n",
       "    </tr>\n",
       "  </tbody>\n",
       "</table>\n",
       "</div>"
      ],
      "text/plain": [
       "   song_id  mean_arousal  std_arousal  mean_valence  std_valence\n",
       "0        2           3.1      0.99443           3.0      0.66667\n",
       "1        3           3.5      1.84090           3.3      1.70290\n",
       "2        4           5.7      1.49440           5.5      1.71590\n",
       "3        5           4.4      2.11870           5.3      1.94650\n",
       "4        7           5.8      1.54920           6.4      1.77640"
      ]
     },
     "execution_count": 4,
     "metadata": {},
     "output_type": "execute_result"
    }
   ],
   "source": [
    "annot = pd.read_csv('data/annotations/static_annotations.csv')\n",
    "annot.head()"
   ]
  },
  {
   "cell_type": "code",
   "execution_count": 5,
   "metadata": {},
   "outputs": [
    {
     "name": "stdout",
     "output_type": "stream",
     "text": [
      "284\n",
      "284\n",
      "72\n",
      "72\n"
     ]
    }
   ],
   "source": [
    "# split train test\n",
    "split_idx = int(len(lyrics) * 0.8)\n",
    "train_set = lyrics.iloc[:split_idx]\n",
    "train_text = train_set['clean_text']\n",
    "test_set = lyrics.iloc[split_idx:]\n",
    "test_text = test_set['text']\n",
    "\n",
    "train_val = annot[annot['song_id'].isin(train_set.song_id)]['mean_valence']\n",
    "test_val = annot[annot['song_id'].isin(test_set.song_id)]['mean_valence']\n",
    "test_text = test_text.astype(str)\n",
    "\n",
    "for x in [train_text, train_val, test_text, test_val]:\n",
    "    print(len(x))"
   ]
  },
  {
   "cell_type": "code",
   "execution_count": 7,
   "metadata": {},
   "outputs": [
    {
     "name": "stdout",
     "output_type": "stream",
     "text": [
      "(284, 1062)\n",
      "(72, 1062)\n",
      "356\n",
      "356\n"
     ]
    }
   ],
   "source": [
    "# process nltk\n",
    "stop_words = stopwords.words('english')\n",
    "vec = TfidfVectorizer(stop_words=stop_words)\n",
    "    \n",
    "def tfidf_preprocessing(train_feature_text, test_feature_text):\n",
    "    train_tfidf = vec.fit_transform(train_feature_text)\n",
    "    test_tfidf = vec.transform(test_feature_text)\n",
    "    \n",
    "    return train_tfidf, test_tfidf\n",
    "\n",
    "train_tfidf, test_tfidf = tfidf_preprocessing(train_text, test_text)\n",
    "\n",
    "print(train_tfidf.shape)\n",
    "print(test_tfidf.shape)\n",
    "\n",
    "alltext = np.concatenate((train_tfidf.toarray(), test_tfidf.toarray()), axis=0)\n",
    "print(len(alltext))\n",
    "allval = pd.concat([train_val, test_val])\n",
    "print(len(allval))"
   ]
  },
  {
   "cell_type": "code",
   "execution_count": 8,
   "metadata": {},
   "outputs": [
    {
     "name": "stdout",
     "output_type": "stream",
     "text": [
      "--LinReg--\n",
      "RMSE = 1.780974179115716\n",
      "\n",
      "--RandomForest--\n",
      "RMSE = 1.152635067687446\n",
      "\n",
      "--XGB--\n",
      "RMSE = 1.201261394727843\n",
      "\n"
     ]
    }
   ],
   "source": [
    "print('--LinReg--')\n",
    "lr = LinearRegression().fit(train_tfidf, train_val)\n",
    "preds = lr.predict(test_tfidf)\n",
    "rmse = mean_squared_error(test_val, preds)**0.5\n",
    "print(f\"RMSE = {rmse}\")\n",
    "print('')\n",
    "\n",
    "print('--RandomForest--')\n",
    "lr = RandomForestRegressor().fit(train_tfidf, train_val)\n",
    "preds = lr.predict(test_tfidf)\n",
    "rmse = mean_squared_error(test_val, preds)**0.5\n",
    "print(f\"RMSE = {rmse}\")\n",
    "print('')\n",
    "\n",
    "print('--XGB--')\n",
    "lr = xgb.XGBRegressor().fit(train_tfidf, train_val)\n",
    "preds = lr.predict(test_tfidf)\n",
    "rmse = mean_squared_error(test_val, preds)**0.5\n",
    "print(f\"RMSE = {rmse}\")\n",
    "print('')"
   ]
  },
  {
   "cell_type": "code",
   "execution_count": 9,
   "metadata": {},
   "outputs": [
    {
     "name": "stdout",
     "output_type": "stream",
     "text": [
      "Fitting 5 folds for each of 4 candidates, totalling 20 fits\n",
      "[CV 3/5] END max_depth=8, n_estimators=100, random_state=31;, score=-1.402 total time=   1.2s\n",
      "[CV 1/5] END max_depth=8, n_estimators=100, random_state=31;, score=-1.108 total time=   1.3s\n",
      "[CV 4/5] END max_depth=8, n_estimators=100, random_state=31;, score=-1.224 total time=   1.4s\n",
      "[CV 2/5] END max_depth=8, n_estimators=100, random_state=31;, score=-1.304 total time=   1.4s\n",
      "[CV 5/5] END max_depth=8, n_estimators=100, random_state=31;, score=-1.369 total time=   1.5s\n",
      "[CV 3/5] END max_depth=8, n_estimators=200, random_state=31;, score=-1.396 total time=   2.8s\n",
      "[CV 1/5] END max_depth=8, n_estimators=200, random_state=31;, score=-1.115 total time=   3.0s\n",
      "[CV 2/5] END max_depth=8, n_estimators=200, random_state=31;, score=-1.306 total time=   3.2s\n",
      "[CV 1/5] END max_depth=10, n_estimators=100, random_state=31;, score=-1.111 total time=   1.7s\n",
      "[CV 4/5] END max_depth=8, n_estimators=200, random_state=31;, score=-1.223 total time=   3.3s\n",
      "[CV 2/5] END max_depth=10, n_estimators=100, random_state=31;, score=-1.303 total time=   1.8s\n",
      "[CV 5/5] END max_depth=8, n_estimators=200, random_state=31;, score=-1.372 total time=   3.0s\n",
      "[CV 3/5] END max_depth=10, n_estimators=100, random_state=31;, score=-1.407 total time=   1.5s\n",
      "[CV 4/5] END max_depth=10, n_estimators=100, random_state=31;, score=-1.231 total time=   1.7s\n",
      "[CV 5/5] END max_depth=10, n_estimators=100, random_state=31;, score=-1.361 total time=   1.7s\n",
      "[CV 1/5] END max_depth=10, n_estimators=200, random_state=31;, score=-1.120 total time=   4.0s\n",
      "[CV 3/5] END max_depth=10, n_estimators=200, random_state=31;, score=-1.400 total time=   3.9s\n",
      "[CV 2/5] END max_depth=10, n_estimators=200, random_state=31;, score=-1.305 total time=   4.3s\n",
      "[CV 4/5] END max_depth=10, n_estimators=200, random_state=31;, score=-1.229 total time=   4.2s\n",
      "[CV 5/5] END max_depth=10, n_estimators=200, random_state=31;, score=-1.369 total time=   2.8s\n",
      "RMSE = -1.2813491444004481 --> {'max_depth': 8, 'n_estimators': 100, 'random_state': 31}\n"
     ]
    }
   ],
   "source": [
    "rf_params = {\n",
    "    'n_estimators': [100, 200],\n",
    "    'max_depth': [8, 10], \n",
    "    'random_state': [31],\n",
    "    #'bootstrap': [True],\n",
    "    #'max_samples': [0.9]\n",
    "} \n",
    "\n",
    "rf_clf = GridSearchCV(RandomForestRegressor(), rf_params, \n",
    "                      n_jobs=-1, \n",
    "                      cv=5, \n",
    "                      refit=False, \n",
    "                      verbose=3, \n",
    "                      scoring='neg_root_mean_squared_error')\n",
    "rf_clf.fit(train_tfidf, np.ravel(train_val))\n",
    "\n",
    "print(f\"RMSE = {rf_clf.best_score_} --> {rf_clf.best_params_}\")\n",
    "\n",
    "# Untuned\n",
    "# RMSE = -1.3162567681740127 --> {'max_depth': None, 'n_estimators': 100, 'random_state': 31}\n",
    "\n",
    "\n",
    "# RMSE = -1.2813491444004481 --> {'max_depth': 8, 'n_estimators': 100, 'random_state': 31}\n",
    "# RMSE = -1.2818443240251427 --> {'bootstrap': True, 'max_depth': 10, 'max_samples': 0.9, 'n_estimators': 100, 'random_state': 31}"
   ]
  },
  {
   "cell_type": "code",
   "execution_count": 10,
   "metadata": {},
   "outputs": [],
   "source": [
    "lr = RandomForestRegressor(max_depth=8, n_estimators=100, random_state=31).fit(alltext, allval)\n",
    "#pickle.dump(lr, open('audiologic/models/rf_lyric_model.pkl', 'wb'))"
   ]
  },
  {
   "cell_type": "code",
   "execution_count": null,
   "metadata": {},
   "outputs": [],
   "source": []
  }
 ],
 "metadata": {
  "kernelspec": {
   "display_name": "env",
   "language": "python",
   "name": "python3"
  },
  "language_info": {
   "codemirror_mode": {
    "name": "ipython",
    "version": 3
   },
   "file_extension": ".py",
   "mimetype": "text/x-python",
   "name": "python",
   "nbconvert_exporter": "python",
   "pygments_lexer": "ipython3",
   "version": "3.8.10"
  },
  "orig_nbformat": 4,
  "vscode": {
   "interpreter": {
    "hash": "6e36b8950cb80ed0d286566d9444641be1938b115d991c143a42d284bc4b2d56"
   }
  }
 },
 "nbformat": 4,
 "nbformat_minor": 2
}
