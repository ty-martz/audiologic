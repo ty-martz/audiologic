{
 "cells": [
  {
   "cell_type": "code",
   "execution_count": 6,
   "metadata": {},
   "outputs": [
    {
     "name": "stderr",
     "output_type": "stream",
     "text": [
      "100%|███████████████████████████████████████| 139M/139M [00:17<00:00, 8.40MiB/s]\n"
     ]
    }
   ],
   "source": [
    "import whisper\n",
    "model = whisper.load_model(\"base\")"
   ]
  },
  {
   "cell_type": "code",
   "execution_count": 17,
   "metadata": {},
   "outputs": [
    {
     "name": "stdout",
     "output_type": "stream",
     "text": [
      "Can't find their friends to make just mine Probably sent to me for my tonight So I see my need and found your life And when it's time it's slowly passed by Take me lover, help me and paint\n",
      "Can't find their friends to make just mine Probably sent to me for my tonight So I see my need and found your life And when it's time it's slowly passed by Take me lover, help me and paint\n"
     ]
    }
   ],
   "source": [
    "# load audio and pad/trim it to fit 30 seconds\n",
    "\n",
    "def whisper_to_me(file):\n",
    "    audio = whisper.load_audio(file)\n",
    "    audio = whisper.pad_or_trim(audio)\n",
    "    mel = whisper.log_mel_spectrogram(audio).to(model.device)\n",
    "    options = whisper.DecodingOptions(fp16=False)\n",
    "    result = whisper.decode(model, mel, options)\n",
    "    print(result.text)\n",
    "\n",
    "files = [\"data/clips_45seconds/2.mp3\", \"data/wav45/2.wav\"]\n",
    "for f in files:\n",
    "    whisper_to_me(f)"
   ]
  },
  {
   "cell_type": "code",
   "execution_count": null,
   "metadata": {},
   "outputs": [],
   "source": []
  }
 ],
 "metadata": {
  "kernelspec": {
   "display_name": "env",
   "language": "python",
   "name": "python3"
  },
  "language_info": {
   "codemirror_mode": {
    "name": "ipython",
    "version": 3
   },
   "file_extension": ".py",
   "mimetype": "text/x-python",
   "name": "python",
   "nbconvert_exporter": "python",
   "pygments_lexer": "ipython3",
   "version": "3.8.10"
  },
  "orig_nbformat": 4,
  "vscode": {
   "interpreter": {
    "hash": "6e36b8950cb80ed0d286566d9444641be1938b115d991c143a42d284bc4b2d56"
   }
  }
 },
 "nbformat": 4,
 "nbformat_minor": 2
}
