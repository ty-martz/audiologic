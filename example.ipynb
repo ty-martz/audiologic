{
 "cells": [
  {
   "cell_type": "code",
   "execution_count": 1,
   "metadata": {},
   "outputs": [
    {
     "name": "stderr",
     "output_type": "stream",
     "text": [
      "/Users/Ty/Code/Practicum/audiologic/env/lib/python3.8/site-packages/tqdm/auto.py:22: TqdmWarning: IProgress not found. Please update jupyter and ipywidgets. See https://ipywidgets.readthedocs.io/en/stable/user_install.html\n",
      "  from .autonotebook import tqdm as notebook_tqdm\n"
     ]
    }
   ],
   "source": [
    "from audiologic.audio import AudioClassifier\n",
    "import pandas as pd\n",
    "import numpy as np\n",
    "from urllib.request import urlopen\n",
    "import io\n",
    "from pydub import AudioSegment\n",
    "from pydub.playback import play\n"
   ]
  },
  {
   "cell_type": "code",
   "execution_count": 2,
   "metadata": {},
   "outputs": [],
   "source": [
    "IDX = 3000 # choose integer up to 7508"
   ]
  },
  {
   "cell_type": "code",
   "execution_count": 3,
   "metadata": {},
   "outputs": [],
   "source": [
    "model = AudioClassifier(model_choice='both') # instantiate audio model class\n",
    "df = pd.read_csv('data/all_audio.csv') # read in data\n",
    "\n",
    "item = df.iloc[IDX]['file'] # gather a file path of audio\n"
   ]
  },
  {
   "cell_type": "code",
   "execution_count": 4,
   "metadata": {},
   "outputs": [
    {
     "name": "stdout",
     "output_type": "stream",
     "text": [
      "----\n",
      "Audio Valence = 5.63 <> 95.0% confidence interval of 5.56 - 5.71\n",
      "Lyrical Valence = 4.76\n",
      "----\n"
     ]
    }
   ],
   "source": [
    "model.make_prediction(item) # predict on data"
   ]
  },
  {
   "cell_type": "code",
   "execution_count": 7,
   "metadata": {},
   "outputs": [
    {
     "ename": "AttributeError",
     "evalue": "'numpy.ndarray' object has no attribute 'seek'",
     "output_type": "error",
     "traceback": [
      "\u001b[0;31m---------------------------------------------------------------------------\u001b[0m",
      "\u001b[0;31mFileNotFoundError\u001b[0m                         Traceback (most recent call last)",
      "Cell \u001b[0;32mIn[7], line 7\u001b[0m\n\u001b[1;32m      6\u001b[0m \u001b[39mtry\u001b[39;00m:\n\u001b[0;32m----> 7\u001b[0m     song \u001b[39m=\u001b[39m AudioSegment\u001b[39m.\u001b[39;49mfrom_mp3(item)\n\u001b[1;32m      8\u001b[0m \u001b[39mexcept\u001b[39;00m:\n",
      "File \u001b[0;32m~/Code/Practicum/audiologic/env/lib/python3.8/site-packages/pydub/audio_segment.py:796\u001b[0m, in \u001b[0;36mAudioSegment.from_mp3\u001b[0;34m(cls, file, parameters)\u001b[0m\n\u001b[1;32m    794\u001b[0m \u001b[39m@classmethod\u001b[39m\n\u001b[1;32m    795\u001b[0m \u001b[39mdef\u001b[39;00m \u001b[39mfrom_mp3\u001b[39m(\u001b[39mcls\u001b[39m, file, parameters\u001b[39m=\u001b[39m\u001b[39mNone\u001b[39;00m):\n\u001b[0;32m--> 796\u001b[0m     \u001b[39mreturn\u001b[39;00m \u001b[39mcls\u001b[39;49m\u001b[39m.\u001b[39;49mfrom_file(file, \u001b[39m'\u001b[39;49m\u001b[39mmp3\u001b[39;49m\u001b[39m'\u001b[39;49m, parameters\u001b[39m=\u001b[39;49mparameters)\n",
      "File \u001b[0;32m~/Code/Practicum/audiologic/env/lib/python3.8/site-packages/pydub/audio_segment.py:651\u001b[0m, in \u001b[0;36mAudioSegment.from_file\u001b[0;34m(cls, file, format, codec, parameters, start_second, duration, **kwargs)\u001b[0m\n\u001b[1;32m    650\u001b[0m     filename \u001b[39m=\u001b[39m \u001b[39mNone\u001b[39;00m\n\u001b[0;32m--> 651\u001b[0m file, close_file \u001b[39m=\u001b[39m _fd_or_path_or_tempfile(file, \u001b[39m'\u001b[39;49m\u001b[39mrb\u001b[39;49m\u001b[39m'\u001b[39;49m, tempfile\u001b[39m=\u001b[39;49m\u001b[39mFalse\u001b[39;49;00m)\n\u001b[1;32m    653\u001b[0m \u001b[39mif\u001b[39;00m \u001b[39mformat\u001b[39m:\n",
      "File \u001b[0;32m~/Code/Practicum/audiologic/env/lib/python3.8/site-packages/pydub/utils.py:60\u001b[0m, in \u001b[0;36m_fd_or_path_or_tempfile\u001b[0;34m(fd, mode, tempfile)\u001b[0m\n\u001b[1;32m     59\u001b[0m \u001b[39mif\u001b[39;00m \u001b[39misinstance\u001b[39m(fd, basestring):\n\u001b[0;32m---> 60\u001b[0m     fd \u001b[39m=\u001b[39m \u001b[39mopen\u001b[39;49m(fd, mode\u001b[39m=\u001b[39;49mmode)\n\u001b[1;32m     61\u001b[0m     close_fd \u001b[39m=\u001b[39m \u001b[39mTrue\u001b[39;00m\n",
      "\u001b[0;31mFileNotFoundError\u001b[0m: [Errno 2] No such file or directory: 'https://p.scdn.co/mp3-preview/8d4df8f2d10556a46e3c482725f1dbbdea25365b?cid=02b0e243b26741fa8d571a7f61aa4518'",
      "\nDuring handling of the above exception, another exception occurred:\n",
      "\u001b[0;31mAttributeError\u001b[0m                            Traceback (most recent call last)",
      "File \u001b[0;32m~/Code/Practicum/audiologic/env/lib/python3.8/site-packages/pydub/audio_segment.py:670\u001b[0m, in \u001b[0;36mAudioSegment.from_file\u001b[0;34m(cls, file, format, codec, parameters, start_second, duration, **kwargs)\u001b[0m\n\u001b[1;32m    669\u001b[0m \u001b[39mif\u001b[39;00m start_second \u001b[39mis\u001b[39;00m \u001b[39mNone\u001b[39;00m \u001b[39mand\u001b[39;00m duration \u001b[39mis\u001b[39;00m \u001b[39mNone\u001b[39;00m:\n\u001b[0;32m--> 670\u001b[0m     \u001b[39mreturn\u001b[39;00m \u001b[39mcls\u001b[39;49m\u001b[39m.\u001b[39;49m_from_safe_wav(file)\n\u001b[1;32m    671\u001b[0m \u001b[39melif\u001b[39;00m start_second \u001b[39mis\u001b[39;00m \u001b[39mnot\u001b[39;00m \u001b[39mNone\u001b[39;00m \u001b[39mand\u001b[39;00m duration \u001b[39mis\u001b[39;00m \u001b[39mNone\u001b[39;00m:\n",
      "File \u001b[0;32m~/Code/Practicum/audiologic/env/lib/python3.8/site-packages/pydub/audio_segment.py:818\u001b[0m, in \u001b[0;36mAudioSegment._from_safe_wav\u001b[0;34m(cls, file)\u001b[0m\n\u001b[1;32m    817\u001b[0m file, close_file \u001b[39m=\u001b[39m _fd_or_path_or_tempfile(file, \u001b[39m'\u001b[39m\u001b[39mrb\u001b[39m\u001b[39m'\u001b[39m, tempfile\u001b[39m=\u001b[39m\u001b[39mFalse\u001b[39;00m)\n\u001b[0;32m--> 818\u001b[0m file\u001b[39m.\u001b[39;49mseek(\u001b[39m0\u001b[39m)\n\u001b[1;32m    819\u001b[0m obj \u001b[39m=\u001b[39m \u001b[39mcls\u001b[39m(data\u001b[39m=\u001b[39mfile)\n",
      "\u001b[0;31mAttributeError\u001b[0m: 'numpy.ndarray' object has no attribute 'seek'",
      "\nDuring handling of the above exception, another exception occurred:\n",
      "\u001b[0;31mAttributeError\u001b[0m                            Traceback (most recent call last)",
      "Cell \u001b[0;32mIn[7], line 9\u001b[0m\n\u001b[1;32m      7\u001b[0m     song \u001b[39m=\u001b[39m AudioSegment\u001b[39m.\u001b[39mfrom_mp3(item)\n\u001b[1;32m      8\u001b[0m \u001b[39mexcept\u001b[39;00m:\n\u001b[0;32m----> 9\u001b[0m     song \u001b[39m=\u001b[39m AudioSegment\u001b[39m.\u001b[39;49mfrom_wav(load_audio(item)[\u001b[39m0\u001b[39;49m])\n\u001b[1;32m     11\u001b[0m play(song)\n",
      "File \u001b[0;32m~/Code/Practicum/audiologic/env/lib/python3.8/site-packages/pydub/audio_segment.py:808\u001b[0m, in \u001b[0;36mAudioSegment.from_wav\u001b[0;34m(cls, file, parameters)\u001b[0m\n\u001b[1;32m    806\u001b[0m \u001b[39m@classmethod\u001b[39m\n\u001b[1;32m    807\u001b[0m \u001b[39mdef\u001b[39;00m \u001b[39mfrom_wav\u001b[39m(\u001b[39mcls\u001b[39m, file, parameters\u001b[39m=\u001b[39m\u001b[39mNone\u001b[39;00m):\n\u001b[0;32m--> 808\u001b[0m     \u001b[39mreturn\u001b[39;00m \u001b[39mcls\u001b[39;49m\u001b[39m.\u001b[39;49mfrom_file(file, \u001b[39m'\u001b[39;49m\u001b[39mwav\u001b[39;49m\u001b[39m'\u001b[39;49m, parameters\u001b[39m=\u001b[39;49mparameters)\n",
      "File \u001b[0;32m~/Code/Practicum/audiologic/env/lib/python3.8/site-packages/pydub/audio_segment.py:678\u001b[0m, in \u001b[0;36mAudioSegment.from_file\u001b[0;34m(cls, file, format, codec, parameters, start_second, duration, **kwargs)\u001b[0m\n\u001b[1;32m    676\u001b[0m             \u001b[39mreturn\u001b[39;00m \u001b[39mcls\u001b[39m\u001b[39m.\u001b[39m_from_safe_wav(file)[start_second\u001b[39m*\u001b[39m\u001b[39m1000\u001b[39m:(start_second\u001b[39m+\u001b[39mduration)\u001b[39m*\u001b[39m\u001b[39m1000\u001b[39m]\n\u001b[1;32m    677\u001b[0m     \u001b[39mexcept\u001b[39;00m:\n\u001b[0;32m--> 678\u001b[0m         file\u001b[39m.\u001b[39;49mseek(\u001b[39m0\u001b[39m)\n\u001b[1;32m    679\u001b[0m \u001b[39melif\u001b[39;00m is_format(\u001b[39m\"\u001b[39m\u001b[39mraw\u001b[39m\u001b[39m\"\u001b[39m) \u001b[39mor\u001b[39;00m is_format(\u001b[39m\"\u001b[39m\u001b[39mpcm\u001b[39m\u001b[39m\"\u001b[39m):\n\u001b[1;32m    680\u001b[0m     sample_width \u001b[39m=\u001b[39m kwargs[\u001b[39m'\u001b[39m\u001b[39msample_width\u001b[39m\u001b[39m'\u001b[39m]\n",
      "\u001b[0;31mAttributeError\u001b[0m: 'numpy.ndarray' object has no attribute 'seek'"
     ]
    }
   ],
   "source": [
    "# listen to audio\n",
    "\n",
    "def get_wav_from_link(file):\n",
    "    '''Loads link to wav file of audio'''\n",
    "    wav = io.BytesIO()\n",
    "    with urlopen(file) as r:\n",
    "        r.seek = lambda *args: None  # allow pydub to call seek(0)\n",
    "        AudioSegment.from_file(r).export(wav, \"wav\")\n",
    "    wav.seek(0)\n",
    "    return wav\n",
    "\n",
    "try:\n",
    "    song = AudioSegment.from_mp3(item)\n",
    "except:\n",
    "    song = AudioSegment.from_wav(get_wav_from_link(item))\n",
    "\n",
    "play(song)"
   ]
  },
  {
   "cell_type": "code",
   "execution_count": null,
   "metadata": {},
   "outputs": [],
   "source": []
  }
 ],
 "metadata": {
  "kernelspec": {
   "display_name": "env",
   "language": "python",
   "name": "python3"
  },
  "language_info": {
   "codemirror_mode": {
    "name": "ipython",
    "version": 3
   },
   "file_extension": ".py",
   "mimetype": "text/x-python",
   "name": "python",
   "nbconvert_exporter": "python",
   "pygments_lexer": "ipython3",
   "version": "3.8.10"
  },
  "orig_nbformat": 4,
  "vscode": {
   "interpreter": {
    "hash": "6e36b8950cb80ed0d286566d9444641be1938b115d991c143a42d284bc4b2d56"
   }
  }
 },
 "nbformat": 4,
 "nbformat_minor": 2
}
