{
 "cells": [
  {
   "cell_type": "code",
   "execution_count": 1,
   "metadata": {},
   "outputs": [
    {
     "name": "stderr",
     "output_type": "stream",
     "text": [
      "/Users/Ty/Code/Practicum/audiologic/env/lib/python3.8/site-packages/tqdm/auto.py:22: TqdmWarning: IProgress not found. Please update jupyter and ipywidgets. See https://ipywidgets.readthedocs.io/en/stable/user_install.html\n",
      "  from .autonotebook import tqdm as notebook_tqdm\n"
     ]
    }
   ],
   "source": [
    "from audiologic.audio import AudioClassifier\n",
    "import pandas as pd\n",
    "import numpy as np\n",
    "from urllib.request import urlopen\n",
    "import io\n",
    "from pydub import AudioSegment\n",
    "from pydub.playback import play"
   ]
  },
  {
   "cell_type": "code",
   "execution_count": 2,
   "metadata": {},
   "outputs": [],
   "source": [
    "IDX = 3000 # choose integer up to 7508"
   ]
  },
  {
   "cell_type": "code",
   "execution_count": 3,
   "metadata": {},
   "outputs": [],
   "source": [
    "model = AudioClassifier(model_choice='both') # instantiate audio model class\n",
    "df = pd.read_csv('data/all_audio.csv') # read in data\n",
    "\n",
    "item = df.iloc[IDX]['file'] # gather a file path of audio\n"
   ]
  },
  {
   "cell_type": "code",
   "execution_count": 4,
   "metadata": {},
   "outputs": [
    {
     "name": "stdout",
     "output_type": "stream",
     "text": [
      "----\n",
      "Audio Valence = 5.63 <> 95.0% confidence interval of 5.56 - 5.71\n",
      "Lyrical Valence = 4.76\n",
      "----\n"
     ]
    }
   ],
   "source": [
    "model.make_prediction(item) # predict on data"
   ]
  },
  {
   "cell_type": "code",
   "execution_count": 5,
   "metadata": {},
   "outputs": [
    {
     "name": "stderr",
     "output_type": "stream",
     "text": [
      "Input #0, wav, from '/var/folders/zl/dcf4_q9d3snfp2mjbl4tx00w0000gp/T/tmpnn_j3hky.wav':\n",
      "  Duration: 00:00:29.95, bitrate: 1411 kb/s\n",
      "  Stream #0:0: Audio: pcm_s16le ([1][0][0][0] / 0x0001), 44100 Hz, 2 channels, s16, 1411 kb/s\n",
      "  29.88 M-A: -0.000 fd=   0 aq=    0KB vq=    0KB sq=    0B f=0/0   \r"
     ]
    },
    {
     "name": "stdout",
     "output_type": "stream",
     "text": [
      "\n"
     ]
    }
   ],
   "source": [
    "# listen to audio\n",
    "\n",
    "def get_wav_from_link(file):\n",
    "    '''Loads link to wav file of audio'''\n",
    "    wav = io.BytesIO()\n",
    "    with urlopen(file) as r:\n",
    "        r.seek = lambda *args: None  # allow pydub to call seek(0)\n",
    "        AudioSegment.from_file(r).export(wav, \"wav\")\n",
    "    wav.seek(0)\n",
    "    return wav\n",
    "\n",
    "try:\n",
    "    song = AudioSegment.from_mp3(item)\n",
    "except:\n",
    "    song = AudioSegment.from_wav(get_wav_from_link(item))\n",
    "\n",
    "play(song)"
   ]
  },
  {
   "cell_type": "code",
   "execution_count": null,
   "metadata": {},
   "outputs": [],
   "source": []
  }
 ],
 "metadata": {
  "kernelspec": {
   "display_name": "env",
   "language": "python",
   "name": "python3"
  },
  "language_info": {
   "codemirror_mode": {
    "name": "ipython",
    "version": 3
   },
   "file_extension": ".py",
   "mimetype": "text/x-python",
   "name": "python",
   "nbconvert_exporter": "python",
   "pygments_lexer": "ipython3",
   "version": "3.8.10"
  },
  "orig_nbformat": 4,
  "vscode": {
   "interpreter": {
    "hash": "6e36b8950cb80ed0d286566d9444641be1938b115d991c143a42d284bc4b2d56"
   }
  }
 },
 "nbformat": 4,
 "nbformat_minor": 2
}
