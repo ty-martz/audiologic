{
 "cells": [
  {
   "cell_type": "code",
   "execution_count": 1,
   "metadata": {},
   "outputs": [],
   "source": [
    "import pandas as pd\n",
    "\n",
    "# arousal = emotional intensity\n",
    "# valence = positivity (higher is more positive)\n",
    "\n",
    "files = [\n",
    "    'arousal_cont_average.csv', # each row is a song and each column is the average arousal 15-45 seconds\n",
    "    'arousal_cont_std.csv', #\n",
    "    'songs_info.csv', # metadata = file, artist, title, genre\n",
    "    'static_annotations.csv', # overall mean and std of arousal and valence # use as source of truth for each song\n",
    "    'valence_cont_average.csv', # each row is a song and each column is the average valence 15-45 seconds\n",
    "    'valence_cont_std.csv'\n",
    "]"
   ]
  },
  {
   "cell_type": "code",
   "execution_count": 10,
   "metadata": {},
   "outputs": [
    {
     "name": "stdout",
     "output_type": "stream",
     "text": [
      "<class 'pandas.core.frame.DataFrame'>\n",
      "RangeIndex: 744 entries, 0 to 743\n",
      "Data columns (total 5 columns):\n",
      " #   Column        Non-Null Count  Dtype  \n",
      "---  ------        --------------  -----  \n",
      " 0   song_id       744 non-null    int64  \n",
      " 1   mean_arousal  744 non-null    float64\n",
      " 2   std_arousal   744 non-null    float64\n",
      " 3   mean_valence  744 non-null    float64\n",
      " 4   std_valence   744 non-null    float64\n",
      "dtypes: float64(4), int64(1)\n",
      "memory usage: 29.2 KB\n",
      "None\n"
     ]
    },
    {
     "data": {
      "text/html": [
       "<div>\n",
       "<style scoped>\n",
       "    .dataframe tbody tr th:only-of-type {\n",
       "        vertical-align: middle;\n",
       "    }\n",
       "\n",
       "    .dataframe tbody tr th {\n",
       "        vertical-align: top;\n",
       "    }\n",
       "\n",
       "    .dataframe thead th {\n",
       "        text-align: right;\n",
       "    }\n",
       "</style>\n",
       "<table border=\"1\" class=\"dataframe\">\n",
       "  <thead>\n",
       "    <tr style=\"text-align: right;\">\n",
       "      <th></th>\n",
       "      <th>song_id</th>\n",
       "      <th>mean_arousal</th>\n",
       "      <th>std_arousal</th>\n",
       "      <th>mean_valence</th>\n",
       "      <th>std_valence</th>\n",
       "    </tr>\n",
       "  </thead>\n",
       "  <tbody>\n",
       "    <tr>\n",
       "      <th>0</th>\n",
       "      <td>2</td>\n",
       "      <td>3.1</td>\n",
       "      <td>0.99443</td>\n",
       "      <td>3.0</td>\n",
       "      <td>0.66667</td>\n",
       "    </tr>\n",
       "    <tr>\n",
       "      <th>1</th>\n",
       "      <td>3</td>\n",
       "      <td>3.5</td>\n",
       "      <td>1.84090</td>\n",
       "      <td>3.3</td>\n",
       "      <td>1.70290</td>\n",
       "    </tr>\n",
       "    <tr>\n",
       "      <th>2</th>\n",
       "      <td>4</td>\n",
       "      <td>5.7</td>\n",
       "      <td>1.49440</td>\n",
       "      <td>5.5</td>\n",
       "      <td>1.71590</td>\n",
       "    </tr>\n",
       "  </tbody>\n",
       "</table>\n",
       "</div>"
      ],
      "text/plain": [
       "   song_id  mean_arousal  std_arousal  mean_valence  std_valence\n",
       "0        2           3.1      0.99443           3.0      0.66667\n",
       "1        3           3.5      1.84090           3.3      1.70290\n",
       "2        4           5.7      1.49440           5.5      1.71590"
      ]
     },
     "metadata": {},
     "output_type": "display_data"
    }
   ],
   "source": [
    "df = pd.read_csv(f'data/annotations/{files[3]}')\n",
    "print(df.info())\n",
    "display(df.head(3))"
   ]
  },
  {
   "cell_type": "code",
   "execution_count": 9,
   "metadata": {},
   "outputs": [],
   "source": [
    "import os\n",
    "\n",
    "ls = list(range(1, 1001))\n",
    "song_truth = pd.read_csv(f'data/annotations/{files[3]}')\n",
    "exclude = set(ls) ^ set(song_truth['song_id'])\n",
    "\n",
    "for n in exclude:\n",
    "    file = f\"data/clips_45seconds/{n}.mp3\"\n",
    "    if os.path.exists(file):\n",
    "        os.remove(file)"
   ]
  },
  {
   "cell_type": "code",
   "execution_count": null,
   "metadata": {},
   "outputs": [],
   "source": [
    "# TODO: convert mp3 to wav using pydub package"
   ]
  }
 ],
 "metadata": {
  "kernelspec": {
   "display_name": "env",
   "language": "python",
   "name": "python3"
  },
  "language_info": {
   "codemirror_mode": {
    "name": "ipython",
    "version": 3
   },
   "file_extension": ".py",
   "mimetype": "text/x-python",
   "name": "python",
   "nbconvert_exporter": "python",
   "pygments_lexer": "ipython3",
   "version": "3.8.2rc2"
  },
  "orig_nbformat": 4,
  "vscode": {
   "interpreter": {
    "hash": "03d477f5ed101298da8e2eb821b3b554811cb20cc9f3bcf56d6977cbd1073e6c"
   }
  }
 },
 "nbformat": 4,
 "nbformat_minor": 2
}
