{
 "cells": [
  {
   "cell_type": "code",
   "execution_count": 1,
   "metadata": {},
   "outputs": [],
   "source": [
    "import pandas as pd\n",
    "import os\n",
    "\n",
    "# arousal = emotional intensity\n",
    "# valence = positivity (higher is more positive)\n",
    "\n",
    "files = [\n",
    "    'arousal_cont_average.csv', # each row is a song and each column is the average arousal 15-45 seconds\n",
    "    'arousal_cont_std.csv', #\n",
    "    'songs_info.csv', # metadata = file, artist, title, genre\n",
    "    'static_annotations.csv', # overall mean and std of arousal and valence # use as source of truth for each song\n",
    "    'valence_cont_average.csv', # each row is a song and each column is the average valence 15-45 seconds\n",
    "    'valence_cont_std.csv'\n",
    "]"
   ]
  },
  {
   "cell_type": "code",
   "execution_count": 2,
   "metadata": {},
   "outputs": [
    {
     "name": "stdout",
     "output_type": "stream",
     "text": [
      "<class 'pandas.core.frame.DataFrame'>\n",
      "RangeIndex: 744 entries, 0 to 743\n",
      "Data columns (total 5 columns):\n",
      " #   Column        Non-Null Count  Dtype  \n",
      "---  ------        --------------  -----  \n",
      " 0   song_id       744 non-null    int64  \n",
      " 1   mean_arousal  744 non-null    float64\n",
      " 2   std_arousal   744 non-null    float64\n",
      " 3   mean_valence  744 non-null    float64\n",
      " 4   std_valence   744 non-null    float64\n",
      "dtypes: float64(4), int64(1)\n",
      "memory usage: 29.2 KB\n",
      "None\n"
     ]
    },
    {
     "data": {
      "text/html": [
       "<div>\n",
       "<style scoped>\n",
       "    .dataframe tbody tr th:only-of-type {\n",
       "        vertical-align: middle;\n",
       "    }\n",
       "\n",
       "    .dataframe tbody tr th {\n",
       "        vertical-align: top;\n",
       "    }\n",
       "\n",
       "    .dataframe thead th {\n",
       "        text-align: right;\n",
       "    }\n",
       "</style>\n",
       "<table border=\"1\" class=\"dataframe\">\n",
       "  <thead>\n",
       "    <tr style=\"text-align: right;\">\n",
       "      <th></th>\n",
       "      <th>song_id</th>\n",
       "      <th>mean_arousal</th>\n",
       "      <th>std_arousal</th>\n",
       "      <th>mean_valence</th>\n",
       "      <th>std_valence</th>\n",
       "    </tr>\n",
       "  </thead>\n",
       "  <tbody>\n",
       "    <tr>\n",
       "      <th>0</th>\n",
       "      <td>2</td>\n",
       "      <td>3.1</td>\n",
       "      <td>0.99443</td>\n",
       "      <td>3.0</td>\n",
       "      <td>0.66667</td>\n",
       "    </tr>\n",
       "    <tr>\n",
       "      <th>1</th>\n",
       "      <td>3</td>\n",
       "      <td>3.5</td>\n",
       "      <td>1.84090</td>\n",
       "      <td>3.3</td>\n",
       "      <td>1.70290</td>\n",
       "    </tr>\n",
       "    <tr>\n",
       "      <th>2</th>\n",
       "      <td>4</td>\n",
       "      <td>5.7</td>\n",
       "      <td>1.49440</td>\n",
       "      <td>5.5</td>\n",
       "      <td>1.71590</td>\n",
       "    </tr>\n",
       "  </tbody>\n",
       "</table>\n",
       "</div>"
      ],
      "text/plain": [
       "   song_id  mean_arousal  std_arousal  mean_valence  std_valence\n",
       "0        2           3.1      0.99443           3.0      0.66667\n",
       "1        3           3.5      1.84090           3.3      1.70290\n",
       "2        4           5.7      1.49440           5.5      1.71590"
      ]
     },
     "metadata": {},
     "output_type": "display_data"
    }
   ],
   "source": [
    "df = pd.read_csv(f'data/annotations/{files[3]}')\n",
    "print(df.info())\n",
    "display(df.head(3))"
   ]
  },
  {
   "cell_type": "code",
   "execution_count": 3,
   "metadata": {},
   "outputs": [],
   "source": [
    "def remove_missing_mp3():\n",
    "    ls = list(range(1, 1001))\n",
    "    song_truth = pd.read_csv(f'data/annotations/{files[3]}')\n",
    "    exclude = set(ls) ^ set(song_truth['song_id'])\n",
    "\n",
    "    for n in exclude:\n",
    "        file = f\"data/clips_45seconds/{n}.mp3\"\n",
    "        if os.path.exists(file):\n",
    "            os.remove(file)\n",
    "\n",
    "#remove_missing_mp3()"
   ]
  },
  {
   "cell_type": "code",
   "execution_count": 4,
   "metadata": {},
   "outputs": [],
   "source": [
    "# TODO: convert mp3 to wav using pydub package\n",
    "# REQUIRES FFMPEG\n",
    "\n",
    "def wav_conversion():\n",
    "    from pydub import AudioSegment\n",
    "    song_truth = pd.read_csv(f'data/annotations/{files[3]}')\n",
    "\n",
    "    for n in song_truth['song_id']:\n",
    "        file = f\"data/clips_45seconds/{n}.mp3\"\n",
    "        wav_output = f\"data/wav45/{n}.wav\"\n",
    "        audio = AudioSegment.from_mp3(file)\n",
    "        audio.export(wav_output, format=\"wav\")"
   ]
  },
  {
   "cell_type": "code",
   "execution_count": 5,
   "metadata": {},
   "outputs": [
    {
     "name": "stderr",
     "output_type": "stream",
     "text": [
      "/Users/Ty/Code/Practicum/audiologic/env/lib/python3.8/site-packages/tqdm/auto.py:22: TqdmWarning: IProgress not found. Please update jupyter and ipywidgets. See https://ipywidgets.readthedocs.io/en/stable/user_install.html\n",
      "  from .autonotebook import tqdm as notebook_tqdm\n"
     ]
    }
   ],
   "source": [
    "from audiologic.utils import transcribe_audio\n",
    "import whisper\n",
    "\n",
    "def lyricize():\n",
    "    song_truth = pd.read_csv(f'data/annotations/{files[3]}')\n",
    "    model = whisper.load_model('base')\n",
    "\n",
    "    lyric_dict = {'song_id':[], 'lyrics':[]}\n",
    "    for n in song_truth['song_id']:\n",
    "        file = f\"data/clips_45seconds/{n}.mp3\"\n",
    "        txt = transcribe_audio(file, preloaded_model=model)\n",
    "        lyric_dict['song_id'].append(n)\n",
    "        lyric_dict['lyrics'].append(txt)\n",
    "    \n",
    "    df = pd.DataFrame(lyric_dict)\n",
    "\n",
    "    return df"
   ]
  },
  {
   "cell_type": "code",
   "execution_count": 6,
   "metadata": {},
   "outputs": [
    {
     "data": {
      "text/html": [
       "<div>\n",
       "<style scoped>\n",
       "    .dataframe tbody tr th:only-of-type {\n",
       "        vertical-align: middle;\n",
       "    }\n",
       "\n",
       "    .dataframe tbody tr th {\n",
       "        vertical-align: top;\n",
       "    }\n",
       "\n",
       "    .dataframe thead th {\n",
       "        text-align: right;\n",
       "    }\n",
       "</style>\n",
       "<table border=\"1\" class=\"dataframe\">\n",
       "  <thead>\n",
       "    <tr style=\"text-align: right;\">\n",
       "      <th></th>\n",
       "      <th>song_id</th>\n",
       "      <th>lyrics</th>\n",
       "    </tr>\n",
       "  </thead>\n",
       "  <tbody>\n",
       "    <tr>\n",
       "      <th>0</th>\n",
       "      <td>2</td>\n",
       "      <td>DecodingResult(audio_features=tensor([[-0.6818...</td>\n",
       "    </tr>\n",
       "    <tr>\n",
       "      <th>1</th>\n",
       "      <td>3</td>\n",
       "      <td>DecodingResult(audio_features=tensor([[-0.5704...</td>\n",
       "    </tr>\n",
       "    <tr>\n",
       "      <th>2</th>\n",
       "      <td>4</td>\n",
       "      <td>DecodingResult(audio_features=tensor([[-0.4866...</td>\n",
       "    </tr>\n",
       "    <tr>\n",
       "      <th>3</th>\n",
       "      <td>5</td>\n",
       "      <td>DecodingResult(audio_features=tensor([[-0.5512...</td>\n",
       "    </tr>\n",
       "    <tr>\n",
       "      <th>4</th>\n",
       "      <td>7</td>\n",
       "      <td>DecodingResult(audio_features=tensor([[-0.5190...</td>\n",
       "    </tr>\n",
       "  </tbody>\n",
       "</table>\n",
       "</div>"
      ],
      "text/plain": [
       "   song_id                                             lyrics\n",
       "0        2  DecodingResult(audio_features=tensor([[-0.6818...\n",
       "1        3  DecodingResult(audio_features=tensor([[-0.5704...\n",
       "2        4  DecodingResult(audio_features=tensor([[-0.4866...\n",
       "3        5  DecodingResult(audio_features=tensor([[-0.5512...\n",
       "4        7  DecodingResult(audio_features=tensor([[-0.5190..."
      ]
     },
     "execution_count": 6,
     "metadata": {},
     "output_type": "execute_result"
    }
   ],
   "source": [
    "df_lyric = lyricize()\n",
    "\n",
    "df_lyric.head()"
   ]
  },
  {
   "cell_type": "code",
   "execution_count": 8,
   "metadata": {},
   "outputs": [
    {
     "data": {
      "text/html": [
       "<div>\n",
       "<style scoped>\n",
       "    .dataframe tbody tr th:only-of-type {\n",
       "        vertical-align: middle;\n",
       "    }\n",
       "\n",
       "    .dataframe tbody tr th {\n",
       "        vertical-align: top;\n",
       "    }\n",
       "\n",
       "    .dataframe thead th {\n",
       "        text-align: right;\n",
       "    }\n",
       "</style>\n",
       "<table border=\"1\" class=\"dataframe\">\n",
       "  <thead>\n",
       "    <tr style=\"text-align: right;\">\n",
       "      <th></th>\n",
       "      <th>song_id</th>\n",
       "      <th>lyrics</th>\n",
       "      <th>text</th>\n",
       "    </tr>\n",
       "  </thead>\n",
       "  <tbody>\n",
       "    <tr>\n",
       "      <th>0</th>\n",
       "      <td>2</td>\n",
       "      <td>DecodingResult(audio_features=tensor([[-0.6818...</td>\n",
       "      <td>Can't find their friends to make just mine Pro...</td>\n",
       "    </tr>\n",
       "    <tr>\n",
       "      <th>1</th>\n",
       "      <td>3</td>\n",
       "      <td>DecodingResult(audio_features=tensor([[-0.5704...</td>\n",
       "      <td>Music</td>\n",
       "    </tr>\n",
       "    <tr>\n",
       "      <th>2</th>\n",
       "      <td>4</td>\n",
       "      <td>DecodingResult(audio_features=tensor([[-0.4866...</td>\n",
       "      <td>Music</td>\n",
       "    </tr>\n",
       "    <tr>\n",
       "      <th>3</th>\n",
       "      <td>5</td>\n",
       "      <td>DecodingResult(audio_features=tensor([[-0.5512...</td>\n",
       "      <td>I ought to leave my main, I ought to leave my ...</td>\n",
       "    </tr>\n",
       "    <tr>\n",
       "      <th>4</th>\n",
       "      <td>7</td>\n",
       "      <td>DecodingResult(audio_features=tensor([[-0.5190...</td>\n",
       "      <td>Music</td>\n",
       "    </tr>\n",
       "  </tbody>\n",
       "</table>\n",
       "</div>"
      ],
      "text/plain": [
       "   song_id                                             lyrics  \\\n",
       "0        2  DecodingResult(audio_features=tensor([[-0.6818...   \n",
       "1        3  DecodingResult(audio_features=tensor([[-0.5704...   \n",
       "2        4  DecodingResult(audio_features=tensor([[-0.4866...   \n",
       "3        5  DecodingResult(audio_features=tensor([[-0.5512...   \n",
       "4        7  DecodingResult(audio_features=tensor([[-0.5190...   \n",
       "\n",
       "                                                text  \n",
       "0  Can't find their friends to make just mine Pro...  \n",
       "1                                              Music  \n",
       "2                                              Music  \n",
       "3  I ought to leave my main, I ought to leave my ...  \n",
       "4                                              Music  "
      ]
     },
     "execution_count": 8,
     "metadata": {},
     "output_type": "execute_result"
    }
   ],
   "source": [
    "df_lyric['text'] = [i.text for i in df_lyric['lyrics']]\n",
    "df_lyric.head()"
   ]
  },
  {
   "cell_type": "code",
   "execution_count": 11,
   "metadata": {},
   "outputs": [
    {
     "data": {
      "text/plain": [
       "DecodingResult(audio_features=tensor([[-0.5704, -0.1351,  0.7946,  ..., -0.1442,  1.1092,  0.2652],\n",
       "        [-0.1802,  0.4886,  0.9549,  ...,  0.2980,  0.8849,  0.1513],\n",
       "        [-0.2676,  1.4002,  0.8311,  ..., -0.0368,  0.7257,  0.0360],\n",
       "        ...,\n",
       "        [ 0.6215, -1.0229, -0.6634,  ..., -0.1429,  1.1305,  1.3437],\n",
       "        [-0.4202,  0.0605, -0.2755,  ...,  0.2335,  0.6126,  0.7600],\n",
       "        [-0.7873,  0.6563,  0.0455,  ..., -0.1563,  0.3479,  0.0976]]), language='en', language_probs=None, tokens=[50364, 7609, 50664], text='Music', avg_logprob=-1.5689871311187744, no_speech_prob=0.4768819510936737, temperature=0.0, compression_ratio=0.38461538461538464)"
      ]
     },
     "execution_count": 11,
     "metadata": {},
     "output_type": "execute_result"
    }
   ],
   "source": [
    "df_lyric.iloc[1]['lyrics']"
   ]
  },
  {
   "cell_type": "code",
   "execution_count": 10,
   "metadata": {},
   "outputs": [],
   "source": [
    "df_lyric.to_pickle('data/lyrics.pkl')\n",
    "df_lyric.to_csv('data/lyrics.csv')"
   ]
  },
  {
   "cell_type": "code",
   "execution_count": null,
   "metadata": {},
   "outputs": [],
   "source": []
  }
 ],
 "metadata": {
  "kernelspec": {
   "display_name": "env",
   "language": "python",
   "name": "python3"
  },
  "language_info": {
   "codemirror_mode": {
    "name": "ipython",
    "version": 3
   },
   "file_extension": ".py",
   "mimetype": "text/x-python",
   "name": "python",
   "nbconvert_exporter": "python",
   "pygments_lexer": "ipython3",
   "version": "3.8.10"
  },
  "orig_nbformat": 4,
  "vscode": {
   "interpreter": {
    "hash": "6e36b8950cb80ed0d286566d9444641be1938b115d991c143a42d284bc4b2d56"
   }
  }
 },
 "nbformat": 4,
 "nbformat_minor": 2
}
